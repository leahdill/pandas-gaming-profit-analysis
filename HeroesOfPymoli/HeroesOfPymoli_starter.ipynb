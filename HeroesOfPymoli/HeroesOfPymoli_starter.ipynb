{
 "cells": [
  {
   "cell_type": "markdown",
   "metadata": {},
   "source": [
    "### Note\n",
    "* Instructions have been included for each segment. You do not have to follow them exactly, but they are included to help you think through the steps."
   ]
  },
  {
   "cell_type": "code",
   "execution_count": 12,
   "metadata": {},
   "outputs": [
    {
     "data": {
      "text/html": [
       "<div>\n",
       "<style scoped>\n",
       "    .dataframe tbody tr th:only-of-type {\n",
       "        vertical-align: middle;\n",
       "    }\n",
       "\n",
       "    .dataframe tbody tr th {\n",
       "        vertical-align: top;\n",
       "    }\n",
       "\n",
       "    .dataframe thead th {\n",
       "        text-align: right;\n",
       "    }\n",
       "</style>\n",
       "<table border=\"1\" class=\"dataframe\">\n",
       "  <thead>\n",
       "    <tr style=\"text-align: right;\">\n",
       "      <th></th>\n",
       "      <th>Purchase ID</th>\n",
       "      <th>SN</th>\n",
       "      <th>Age</th>\n",
       "      <th>Gender</th>\n",
       "      <th>Item ID</th>\n",
       "      <th>Item Name</th>\n",
       "      <th>Price</th>\n",
       "    </tr>\n",
       "  </thead>\n",
       "  <tbody>\n",
       "    <tr>\n",
       "      <th>0</th>\n",
       "      <td>0</td>\n",
       "      <td>Lisim78</td>\n",
       "      <td>20</td>\n",
       "      <td>Male</td>\n",
       "      <td>108</td>\n",
       "      <td>Extraction, Quickblade Of Trembling Hands</td>\n",
       "      <td>3.53</td>\n",
       "    </tr>\n",
       "    <tr>\n",
       "      <th>1</th>\n",
       "      <td>1</td>\n",
       "      <td>Lisovynya38</td>\n",
       "      <td>40</td>\n",
       "      <td>Male</td>\n",
       "      <td>143</td>\n",
       "      <td>Frenzied Scimitar</td>\n",
       "      <td>1.56</td>\n",
       "    </tr>\n",
       "    <tr>\n",
       "      <th>2</th>\n",
       "      <td>2</td>\n",
       "      <td>Ithergue48</td>\n",
       "      <td>24</td>\n",
       "      <td>Male</td>\n",
       "      <td>92</td>\n",
       "      <td>Final Critic</td>\n",
       "      <td>4.88</td>\n",
       "    </tr>\n",
       "    <tr>\n",
       "      <th>3</th>\n",
       "      <td>3</td>\n",
       "      <td>Chamassasya86</td>\n",
       "      <td>24</td>\n",
       "      <td>Male</td>\n",
       "      <td>100</td>\n",
       "      <td>Blindscythe</td>\n",
       "      <td>3.27</td>\n",
       "    </tr>\n",
       "    <tr>\n",
       "      <th>4</th>\n",
       "      <td>4</td>\n",
       "      <td>Iskosia90</td>\n",
       "      <td>23</td>\n",
       "      <td>Male</td>\n",
       "      <td>131</td>\n",
       "      <td>Fury</td>\n",
       "      <td>1.44</td>\n",
       "    </tr>\n",
       "  </tbody>\n",
       "</table>\n",
       "</div>"
      ],
      "text/plain": [
       "   Purchase ID             SN  Age Gender  Item ID  \\\n",
       "0            0        Lisim78   20   Male      108   \n",
       "1            1    Lisovynya38   40   Male      143   \n",
       "2            2     Ithergue48   24   Male       92   \n",
       "3            3  Chamassasya86   24   Male      100   \n",
       "4            4      Iskosia90   23   Male      131   \n",
       "\n",
       "                                   Item Name  Price  \n",
       "0  Extraction, Quickblade Of Trembling Hands   3.53  \n",
       "1                          Frenzied Scimitar   1.56  \n",
       "2                               Final Critic   4.88  \n",
       "3                                Blindscythe   3.27  \n",
       "4                                       Fury   1.44  "
      ]
     },
     "execution_count": 12,
     "metadata": {},
     "output_type": "execute_result"
    }
   ],
   "source": [
    "# Dependencies and Setup\n",
    "import pandas as pd\n",
    "\n",
    "# File to Load (Remember to Change These)\n",
    "file_to_load = \"Resources/purchase_data.csv\"\n",
    "\n",
    "# Read Purchasing File and store into Pandas data frame\n",
    "purchase_data = pd.read_csv(file_to_load)\n",
    "purchase_data_df= pd.DataFrame(purchase_data)\n",
    "purchase_data_df.head()"
   ]
  },
  {
   "cell_type": "markdown",
   "metadata": {},
   "source": [
    "## Player Count"
   ]
  },
  {
   "cell_type": "markdown",
   "metadata": {},
   "source": [
    "* Display the total number of players\n"
   ]
  },
  {
   "cell_type": "code",
   "execution_count": 13,
   "metadata": {},
   "outputs": [
    {
     "data": {
      "text/plain": [
       "576"
      ]
     },
     "execution_count": 13,
     "metadata": {},
     "output_type": "execute_result"
    }
   ],
   "source": [
    "# Get total player count\n",
    "total_players = purchase_data_df[\"SN\"].unique()\n",
    "total_players = len(total_players)\n",
    "total_players"
   ]
  },
  {
   "cell_type": "markdown",
   "metadata": {},
   "source": [
    "## Purchasing Analysis (Total)"
   ]
  },
  {
   "cell_type": "markdown",
   "metadata": {},
   "source": [
    "* Run basic calculations to obtain number of unique items, average price, etc.\n",
    "\n",
    "\n",
    "* Create a summary data frame to hold the results\n",
    "\n",
    "\n",
    "* Optional: give the displayed data cleaner formatting\n",
    "\n",
    "\n",
    "* Display the summary data frame\n"
   ]
  },
  {
   "cell_type": "code",
   "execution_count": 14,
   "metadata": {
    "scrolled": true
   },
   "outputs": [
    {
     "data": {
      "text/html": [
       "<style  type=\"text/css\" >\n",
       "#T_b88c945a_9298_11eb_a237_80c5f2893d9crow0_col0,#T_b88c945a_9298_11eb_a237_80c5f2893d9crow0_col1,#T_b88c945a_9298_11eb_a237_80c5f2893d9crow0_col2,#T_b88c945a_9298_11eb_a237_80c5f2893d9crow0_col3{\n",
       "            text-align:  center;\n",
       "        }</style><table id=\"T_b88c945a_9298_11eb_a237_80c5f2893d9c\" ><thead>    <tr>        <th class=\"col_heading level0 col0\" >Number of Unique Items</th>        <th class=\"col_heading level0 col1\" >Average Price</th>        <th class=\"col_heading level0 col2\" >Number of Purchases</th>        <th class=\"col_heading level0 col3\" >Total Revenue</th>    </tr></thead><tbody>\n",
       "                <tr>\n",
       "                                <td id=\"T_b88c945a_9298_11eb_a237_80c5f2893d9crow0_col0\" class=\"data row0 col0\" >179</td>\n",
       "                        <td id=\"T_b88c945a_9298_11eb_a237_80c5f2893d9crow0_col1\" class=\"data row0 col1\" >$3.05</td>\n",
       "                        <td id=\"T_b88c945a_9298_11eb_a237_80c5f2893d9crow0_col2\" class=\"data row0 col2\" >780</td>\n",
       "                        <td id=\"T_b88c945a_9298_11eb_a237_80c5f2893d9crow0_col3\" class=\"data row0 col3\" >$2,379.77</td>\n",
       "            </tr>\n",
       "    </tbody></table>"
      ],
      "text/plain": [
       "<pandas.io.formats.style.Styler at 0x24db98489a0>"
      ]
     },
     "execution_count": 14,
     "metadata": {},
     "output_type": "execute_result"
    }
   ],
   "source": [
    "#Get number of unique items\n",
    "unique_items=len(purchase_data_df[\"Item ID\"].unique())\n",
    "\n",
    "#Get the average price of an item\n",
    "avg_price = purchase_data_df[\"Price\"].mean()\n",
    "\n",
    "#Get the number of purchases\n",
    "total_purchases = purchase_data_df[\"Purchase ID\"].count()\n",
    "\n",
    "#Get the total revenue\n",
    "total_revenue = purchase_data_df[\"Price\"].sum()\n",
    "\n",
    "#Show summary table\n",
    "purchasing_analysis_df = pd.DataFrame([{\"Number of Unique Items\": unique_items, \"Average Price\": avg_price, \"Number of Purchases\": total_purchases, \"Total Revenue\": total_revenue}])\n",
    "purchasing_analysis_df[\"Average Price\"] = purchasing_analysis_df[\"Average Price\"].map(\"${:,.2f}\".format)\n",
    "purchasing_analysis_df[\"Total Revenue\"] = purchasing_analysis_df[\"Total Revenue\"].map(\"${:,.2f}\".format)\n",
    "purchasing_analysis_df\n",
    "\n",
    "#Spruce up the table\n",
    "purchasing_analysis_df[[\"Number of Unique Items\", \"Average Price\", \"Number of Purchases\", \"Total Revenue\"]].style.hide_index().set_properties(subset=[\"Number of Unique Items\", \"Average Price\", \"Number of Purchases\", \"Total Revenue\"], **{'text-align': 'center'})"
   ]
  },
  {
   "cell_type": "markdown",
   "metadata": {},
   "source": [
    "## Gender Demographics"
   ]
  },
  {
   "cell_type": "markdown",
   "metadata": {},
   "source": [
    "* Percentage and Count of Male Players\n",
    "\n",
    "\n",
    "* Percentage and Count of Female Players\n",
    "\n",
    "\n",
    "* Percentage and Count of Other / Non-Disclosed\n",
    "\n",
    "\n"
   ]
  },
  {
   "cell_type": "code",
   "execution_count": 15,
   "metadata": {},
   "outputs": [
    {
     "data": {
      "text/html": [
       "<div>\n",
       "<style scoped>\n",
       "    .dataframe tbody tr th:only-of-type {\n",
       "        vertical-align: middle;\n",
       "    }\n",
       "\n",
       "    .dataframe tbody tr th {\n",
       "        vertical-align: top;\n",
       "    }\n",
       "\n",
       "    .dataframe thead th {\n",
       "        text-align: right;\n",
       "    }\n",
       "</style>\n",
       "<table border=\"1\" class=\"dataframe\">\n",
       "  <thead>\n",
       "    <tr style=\"text-align: right;\">\n",
       "      <th></th>\n",
       "      <th>Percentage of Players</th>\n",
       "      <th>Total Count</th>\n",
       "    </tr>\n",
       "  </thead>\n",
       "  <tbody>\n",
       "    <tr>\n",
       "      <th>Female</th>\n",
       "      <td>14.06%</td>\n",
       "      <td>81</td>\n",
       "    </tr>\n",
       "    <tr>\n",
       "      <th>Male</th>\n",
       "      <td>84.03%</td>\n",
       "      <td>484</td>\n",
       "    </tr>\n",
       "    <tr>\n",
       "      <th>Other / Non-Disclosed</th>\n",
       "      <td>1.91%</td>\n",
       "      <td>11</td>\n",
       "    </tr>\n",
       "  </tbody>\n",
       "</table>\n",
       "</div>"
      ],
      "text/plain": [
       "                      Percentage of Players  Total Count\n",
       "Female                               14.06%           81\n",
       "Male                                 84.03%          484\n",
       "Other / Non-Disclosed                 1.91%           11"
      ]
     },
     "execution_count": 15,
     "metadata": {},
     "output_type": "execute_result"
    }
   ],
   "source": [
    "#Group by gender\n",
    "mf_stats = purchase_data.groupby(\"Gender\")\n",
    "\n",
    "#Get total users by gender\n",
    "mf_count = mf_stats.nunique()[\"SN\"]\n",
    "\n",
    "#Get demographic percentage breakdown\n",
    "percentage = mf_count / total_players * 100\n",
    "\n",
    "#Create the dataframe\n",
    "mf_demo = pd.DataFrame({\"Percentage of Players\": percentage, \"Total Count\": mf_count})\n",
    "\n",
    "#Spruce up the table (remove index heading and move decimal places)\n",
    "mf_demo[\"Percentage of Players\"] = mf_demo[\"Percentage of Players\"].map(\"{:,.2f}%\".format)\n",
    "mf_demo.index.name = None\n",
    "\n",
    "mf_demo"
   ]
  },
  {
   "cell_type": "markdown",
   "metadata": {},
   "source": [
    "\n",
    "## Purchasing Analysis (Gender)"
   ]
  },
  {
   "cell_type": "markdown",
   "metadata": {},
   "source": [
    "# * Run basic calculations to obtain purchase count, avg. purchase price, avg. purchase total per person etc. by gender\n",
    "\n",
    "\n",
    "\n",
    "\n",
    "* Create a summary data frame to hold the results\n",
    "\n",
    "\n",
    "* Optional: give the displayed data cleaner formatting\n",
    "\n",
    "\n",
    "* Display the summary data frame"
   ]
  },
  {
   "cell_type": "code",
   "execution_count": 27,
   "metadata": {},
   "outputs": [
    {
     "data": {
      "text/html": [
       "<style  type=\"text/css\" >\n",
       "</style><table id=\"T_6a3e2e1a_929d_11eb_85c4_80c5f2893d9c\" ><thead>    <tr>        <th class=\"blank level0\" ></th>        <th class=\"col_heading level0 col0\" >Purchase Count</th>        <th class=\"col_heading level0 col1\" >Average Purchase Price</th>        <th class=\"col_heading level0 col2\" >Average Purchase Value</th>        <th class=\"col_heading level0 col3\" >Avg Purchase Total per Person</th>    </tr>    <tr>        <th class=\"index_name level0\" >Gender</th>        <th class=\"blank\" ></th>        <th class=\"blank\" ></th>        <th class=\"blank\" ></th>        <th class=\"blank\" ></th>    </tr></thead><tbody>\n",
       "                <tr>\n",
       "                        <th id=\"T_6a3e2e1a_929d_11eb_85c4_80c5f2893d9clevel0_row0\" class=\"row_heading level0 row0\" >Female</th>\n",
       "                        <td id=\"T_6a3e2e1a_929d_11eb_85c4_80c5f2893d9crow0_col0\" class=\"data row0 col0\" >113</td>\n",
       "                        <td id=\"T_6a3e2e1a_929d_11eb_85c4_80c5f2893d9crow0_col1\" class=\"data row0 col1\" >$3.20</td>\n",
       "                        <td id=\"T_6a3e2e1a_929d_11eb_85c4_80c5f2893d9crow0_col2\" class=\"data row0 col2\" >$361.94</td>\n",
       "                        <td id=\"T_6a3e2e1a_929d_11eb_85c4_80c5f2893d9crow0_col3\" class=\"data row0 col3\" >$4.47</td>\n",
       "            </tr>\n",
       "            <tr>\n",
       "                        <th id=\"T_6a3e2e1a_929d_11eb_85c4_80c5f2893d9clevel0_row1\" class=\"row_heading level0 row1\" >Male</th>\n",
       "                        <td id=\"T_6a3e2e1a_929d_11eb_85c4_80c5f2893d9crow1_col0\" class=\"data row1 col0\" >652</td>\n",
       "                        <td id=\"T_6a3e2e1a_929d_11eb_85c4_80c5f2893d9crow1_col1\" class=\"data row1 col1\" >$3.02</td>\n",
       "                        <td id=\"T_6a3e2e1a_929d_11eb_85c4_80c5f2893d9crow1_col2\" class=\"data row1 col2\" >$1,967.64</td>\n",
       "                        <td id=\"T_6a3e2e1a_929d_11eb_85c4_80c5f2893d9crow1_col3\" class=\"data row1 col3\" >$4.07</td>\n",
       "            </tr>\n",
       "            <tr>\n",
       "                        <th id=\"T_6a3e2e1a_929d_11eb_85c4_80c5f2893d9clevel0_row2\" class=\"row_heading level0 row2\" >Other / Non-Disclosed</th>\n",
       "                        <td id=\"T_6a3e2e1a_929d_11eb_85c4_80c5f2893d9crow2_col0\" class=\"data row2 col0\" >15</td>\n",
       "                        <td id=\"T_6a3e2e1a_929d_11eb_85c4_80c5f2893d9crow2_col1\" class=\"data row2 col1\" >$3.35</td>\n",
       "                        <td id=\"T_6a3e2e1a_929d_11eb_85c4_80c5f2893d9crow2_col2\" class=\"data row2 col2\" >$50.19</td>\n",
       "                        <td id=\"T_6a3e2e1a_929d_11eb_85c4_80c5f2893d9crow2_col3\" class=\"data row2 col3\" >$4.56</td>\n",
       "            </tr>\n",
       "    </tbody></table>"
      ],
      "text/plain": [
       "<pandas.io.formats.style.Styler at 0x24db8670790>"
      ]
     },
     "execution_count": 27,
     "metadata": {},
     "output_type": "execute_result"
    }
   ],
   "source": [
    "#Get total purchases by gender \n",
    "purchase_count = mf_stats[\"Purchase ID\"].count()\n",
    "\n",
    "#Get average purchase price by gender\n",
    "avg_purchase_price = mf_stats[\"Price\"].mean()\n",
    "\n",
    "#Get average purchase total by gender \n",
    "avg_purchase_total = mf_stats[\"Price\"].sum()\n",
    "\n",
    "#Get average purchase per person\n",
    "avg_purchase_per_person = avg_purchase_total/mf_count\n",
    "\n",
    "#Create dataframe\n",
    "mf_demo = pd.DataFrame({\"Purchase Count\": purchase_count, \n",
    "                        \"Average Purchase Price\": avg_purchase_price,\n",
    "                        \"Average Purchase Value\":avg_purchase_total,\n",
    "                        \"Avg Purchase Total per Person\": avg_purchase_per_person})\n",
    "\n",
    "#Assign index as gender\n",
    "mf_demo.index.name = \"Gender\"\n",
    "\n",
    "# Format the numbers\n",
    "mf_demo.style.format({\"Average Purchase Value\":\"${:,.2f}\",\n",
    "                    \"Average Purchase Price\":\"${:,.2f}\",\n",
    "                    \"Avg Purchase Total per Person\":\"${:,.2f}\"})"
   ]
  },
  {
   "cell_type": "markdown",
   "metadata": {},
   "source": [
    "## Age Demographics"
   ]
  },
  {
   "cell_type": "markdown",
   "metadata": {},
   "source": [
    "* Establish bins for ages\n",
    "\n",
    "\n",
    "* Categorize the existing players using the age bins. Hint: use pd.cut()\n",
    "\n",
    "\n",
    "* Calculate the numbers and percentages by age group\n",
    "\n",
    "\n",
    "* Create a summary data frame to hold the results\n",
    "\n",
    "\n",
    "* Optional: round the percentage column to two decimal points\n",
    "\n",
    "\n",
    "* Display Age Demographics Table\n"
   ]
  },
  {
   "cell_type": "code",
   "execution_count": 45,
   "metadata": {},
   "outputs": [
    {
     "data": {
      "text/html": [
       "<style  type=\"text/css\" >\n",
       "</style><table id=\"T_7332e8e3_92a0_11eb_9190_80c5f2893d9c\" ><thead>    <tr>        <th class=\"blank level0\" ></th>        <th class=\"col_heading level0 col0\" >Percentage of Players</th>        <th class=\"col_heading level0 col1\" >Total Count</th>    </tr></thead><tbody>\n",
       "                <tr>\n",
       "                        <th id=\"T_7332e8e3_92a0_11eb_9190_80c5f2893d9clevel0_row0\" class=\"row_heading level0 row0\" ><10</th>\n",
       "                        <td id=\"T_7332e8e3_92a0_11eb_9190_80c5f2893d9crow0_col0\" class=\"data row0 col0\" >2.95%</td>\n",
       "                        <td id=\"T_7332e8e3_92a0_11eb_9190_80c5f2893d9crow0_col1\" class=\"data row0 col1\" >17</td>\n",
       "            </tr>\n",
       "            <tr>\n",
       "                        <th id=\"T_7332e8e3_92a0_11eb_9190_80c5f2893d9clevel0_row1\" class=\"row_heading level0 row1\" >10-14</th>\n",
       "                        <td id=\"T_7332e8e3_92a0_11eb_9190_80c5f2893d9crow1_col0\" class=\"data row1 col0\" >3.82%</td>\n",
       "                        <td id=\"T_7332e8e3_92a0_11eb_9190_80c5f2893d9crow1_col1\" class=\"data row1 col1\" >22</td>\n",
       "            </tr>\n",
       "            <tr>\n",
       "                        <th id=\"T_7332e8e3_92a0_11eb_9190_80c5f2893d9clevel0_row2\" class=\"row_heading level0 row2\" >15-19</th>\n",
       "                        <td id=\"T_7332e8e3_92a0_11eb_9190_80c5f2893d9crow2_col0\" class=\"data row2 col0\" >18.58%</td>\n",
       "                        <td id=\"T_7332e8e3_92a0_11eb_9190_80c5f2893d9crow2_col1\" class=\"data row2 col1\" >107</td>\n",
       "            </tr>\n",
       "            <tr>\n",
       "                        <th id=\"T_7332e8e3_92a0_11eb_9190_80c5f2893d9clevel0_row3\" class=\"row_heading level0 row3\" >20-24</th>\n",
       "                        <td id=\"T_7332e8e3_92a0_11eb_9190_80c5f2893d9crow3_col0\" class=\"data row3 col0\" >44.79%</td>\n",
       "                        <td id=\"T_7332e8e3_92a0_11eb_9190_80c5f2893d9crow3_col1\" class=\"data row3 col1\" >258</td>\n",
       "            </tr>\n",
       "            <tr>\n",
       "                        <th id=\"T_7332e8e3_92a0_11eb_9190_80c5f2893d9clevel0_row4\" class=\"row_heading level0 row4\" >25-29</th>\n",
       "                        <td id=\"T_7332e8e3_92a0_11eb_9190_80c5f2893d9crow4_col0\" class=\"data row4 col0\" >13.37%</td>\n",
       "                        <td id=\"T_7332e8e3_92a0_11eb_9190_80c5f2893d9crow4_col1\" class=\"data row4 col1\" >77</td>\n",
       "            </tr>\n",
       "            <tr>\n",
       "                        <th id=\"T_7332e8e3_92a0_11eb_9190_80c5f2893d9clevel0_row5\" class=\"row_heading level0 row5\" >30-34</th>\n",
       "                        <td id=\"T_7332e8e3_92a0_11eb_9190_80c5f2893d9crow5_col0\" class=\"data row5 col0\" >9.03%</td>\n",
       "                        <td id=\"T_7332e8e3_92a0_11eb_9190_80c5f2893d9crow5_col1\" class=\"data row5 col1\" >52</td>\n",
       "            </tr>\n",
       "            <tr>\n",
       "                        <th id=\"T_7332e8e3_92a0_11eb_9190_80c5f2893d9clevel0_row6\" class=\"row_heading level0 row6\" >35-39</th>\n",
       "                        <td id=\"T_7332e8e3_92a0_11eb_9190_80c5f2893d9crow6_col0\" class=\"data row6 col0\" >5.38%</td>\n",
       "                        <td id=\"T_7332e8e3_92a0_11eb_9190_80c5f2893d9crow6_col1\" class=\"data row6 col1\" >31</td>\n",
       "            </tr>\n",
       "            <tr>\n",
       "                        <th id=\"T_7332e8e3_92a0_11eb_9190_80c5f2893d9clevel0_row7\" class=\"row_heading level0 row7\" >>40</th>\n",
       "                        <td id=\"T_7332e8e3_92a0_11eb_9190_80c5f2893d9crow7_col0\" class=\"data row7 col0\" >2.08%</td>\n",
       "                        <td id=\"T_7332e8e3_92a0_11eb_9190_80c5f2893d9crow7_col1\" class=\"data row7 col1\" >12</td>\n",
       "            </tr>\n",
       "    </tbody></table>"
      ],
      "text/plain": [
       "<pandas.io.formats.style.Styler at 0x24db9848d90>"
      ]
     },
     "execution_count": 45,
     "metadata": {},
     "output_type": "execute_result"
    }
   ],
   "source": [
    "#Set bins for ages\n",
    "age_bins = [0, 9.90, 14.90, 19.90, 24.90, 29.90, 34.90, 39.90, 99999]\n",
    "age_groups = [\"<10\", \"10-14\", \"15-19\", \"20-24\", \"25-29\", \"30-34\", \"35-39\", \">40\"]\n",
    "\n",
    "#Break out the age values and store them in the defined bins              \n",
    "purchase_data[\"Age Group\"] = pd.cut(purchase_data[\"Age\"], age_bins, labels = age_groups)\n",
    "              \n",
    "#Create dataframe for Age Group\n",
    "ages_grouped = purchase_data.groupby(\"Age Group\")\n",
    "              \n",
    "#Count players by their ages\n",
    "total_age_count = ages_grouped[\"SN\"].nunique()\n",
    "              \n",
    "#Get percentage ofplayers by age\n",
    "percent_of_players_age = (total_age_count/total_players) * 100\n",
    "              \n",
    "#Create dataframe\n",
    "age_demo = pd.DataFrame({\"Percentage of Players\":percent_of_players_age, \"Total Count\": total_age_count})\n",
    "\n",
    "#Remove index\n",
    "age_demo.index.name = None\n",
    "\n",
    "#Format percent to two decimal places\n",
    "age_demo.style.format({\"Percentage of Players\":\"{:,.2f}%\"})\n"
   ]
  },
  {
   "cell_type": "markdown",
   "metadata": {},
   "source": [
    "## Purchasing Analysis (Age)"
   ]
  },
  {
   "cell_type": "markdown",
   "metadata": {},
   "source": [
    "* Bin the purchase_data data frame by age\n",
    "\n",
    "\n",
    "* Run basic calculations to obtain purchase count, avg. purchase price, avg. purchase total per person etc. in the table below\n",
    "\n",
    "\n",
    "* Create a summary data frame to hold the results\n",
    "\n",
    "\n",
    "* Optional: give the displayed data cleaner formatting\n",
    "\n",
    "\n",
    "* Display the summary data frame"
   ]
  },
  {
   "cell_type": "code",
   "execution_count": 54,
   "metadata": {},
   "outputs": [
    {
     "data": {
      "text/html": [
       "<style  type=\"text/css\" >\n",
       "</style><table id=\"T_1445eb9f_92a2_11eb_bbaf_80c5f2893d9c\" ><thead>    <tr>        <th class=\"blank level0\" ></th>        <th class=\"col_heading level0 col0\" >Purchase Count</th>        <th class=\"col_heading level0 col1\" >Average Purchase Price</th>        <th class=\"col_heading level0 col2\" >Total Purchase Value</th>        <th class=\"col_heading level0 col3\" >Average Purchase Total per Person</th>    </tr></thead><tbody>\n",
       "                <tr>\n",
       "                        <th id=\"T_1445eb9f_92a2_11eb_bbaf_80c5f2893d9clevel0_row0\" class=\"row_heading level0 row0\" ><10</th>\n",
       "                        <td id=\"T_1445eb9f_92a2_11eb_bbaf_80c5f2893d9crow0_col0\" class=\"data row0 col0\" >23</td>\n",
       "                        <td id=\"T_1445eb9f_92a2_11eb_bbaf_80c5f2893d9crow0_col1\" class=\"data row0 col1\" >$3.35</td>\n",
       "                        <td id=\"T_1445eb9f_92a2_11eb_bbaf_80c5f2893d9crow0_col2\" class=\"data row0 col2\" >$77.13</td>\n",
       "                        <td id=\"T_1445eb9f_92a2_11eb_bbaf_80c5f2893d9crow0_col3\" class=\"data row0 col3\" >$4.54</td>\n",
       "            </tr>\n",
       "            <tr>\n",
       "                        <th id=\"T_1445eb9f_92a2_11eb_bbaf_80c5f2893d9clevel0_row1\" class=\"row_heading level0 row1\" >10-14</th>\n",
       "                        <td id=\"T_1445eb9f_92a2_11eb_bbaf_80c5f2893d9crow1_col0\" class=\"data row1 col0\" >28</td>\n",
       "                        <td id=\"T_1445eb9f_92a2_11eb_bbaf_80c5f2893d9crow1_col1\" class=\"data row1 col1\" >$2.96</td>\n",
       "                        <td id=\"T_1445eb9f_92a2_11eb_bbaf_80c5f2893d9crow1_col2\" class=\"data row1 col2\" >$82.78</td>\n",
       "                        <td id=\"T_1445eb9f_92a2_11eb_bbaf_80c5f2893d9crow1_col3\" class=\"data row1 col3\" >$3.76</td>\n",
       "            </tr>\n",
       "            <tr>\n",
       "                        <th id=\"T_1445eb9f_92a2_11eb_bbaf_80c5f2893d9clevel0_row2\" class=\"row_heading level0 row2\" >15-19</th>\n",
       "                        <td id=\"T_1445eb9f_92a2_11eb_bbaf_80c5f2893d9crow2_col0\" class=\"data row2 col0\" >136</td>\n",
       "                        <td id=\"T_1445eb9f_92a2_11eb_bbaf_80c5f2893d9crow2_col1\" class=\"data row2 col1\" >$3.04</td>\n",
       "                        <td id=\"T_1445eb9f_92a2_11eb_bbaf_80c5f2893d9crow2_col2\" class=\"data row2 col2\" >$412.89</td>\n",
       "                        <td id=\"T_1445eb9f_92a2_11eb_bbaf_80c5f2893d9crow2_col3\" class=\"data row2 col3\" >$3.86</td>\n",
       "            </tr>\n",
       "            <tr>\n",
       "                        <th id=\"T_1445eb9f_92a2_11eb_bbaf_80c5f2893d9clevel0_row3\" class=\"row_heading level0 row3\" >20-24</th>\n",
       "                        <td id=\"T_1445eb9f_92a2_11eb_bbaf_80c5f2893d9crow3_col0\" class=\"data row3 col0\" >365</td>\n",
       "                        <td id=\"T_1445eb9f_92a2_11eb_bbaf_80c5f2893d9crow3_col1\" class=\"data row3 col1\" >$3.05</td>\n",
       "                        <td id=\"T_1445eb9f_92a2_11eb_bbaf_80c5f2893d9crow3_col2\" class=\"data row3 col2\" >$1,114.06</td>\n",
       "                        <td id=\"T_1445eb9f_92a2_11eb_bbaf_80c5f2893d9crow3_col3\" class=\"data row3 col3\" >$4.32</td>\n",
       "            </tr>\n",
       "            <tr>\n",
       "                        <th id=\"T_1445eb9f_92a2_11eb_bbaf_80c5f2893d9clevel0_row4\" class=\"row_heading level0 row4\" >25-29</th>\n",
       "                        <td id=\"T_1445eb9f_92a2_11eb_bbaf_80c5f2893d9crow4_col0\" class=\"data row4 col0\" >101</td>\n",
       "                        <td id=\"T_1445eb9f_92a2_11eb_bbaf_80c5f2893d9crow4_col1\" class=\"data row4 col1\" >$2.90</td>\n",
       "                        <td id=\"T_1445eb9f_92a2_11eb_bbaf_80c5f2893d9crow4_col2\" class=\"data row4 col2\" >$293.00</td>\n",
       "                        <td id=\"T_1445eb9f_92a2_11eb_bbaf_80c5f2893d9crow4_col3\" class=\"data row4 col3\" >$3.81</td>\n",
       "            </tr>\n",
       "            <tr>\n",
       "                        <th id=\"T_1445eb9f_92a2_11eb_bbaf_80c5f2893d9clevel0_row5\" class=\"row_heading level0 row5\" >30-34</th>\n",
       "                        <td id=\"T_1445eb9f_92a2_11eb_bbaf_80c5f2893d9crow5_col0\" class=\"data row5 col0\" >73</td>\n",
       "                        <td id=\"T_1445eb9f_92a2_11eb_bbaf_80c5f2893d9crow5_col1\" class=\"data row5 col1\" >$2.93</td>\n",
       "                        <td id=\"T_1445eb9f_92a2_11eb_bbaf_80c5f2893d9crow5_col2\" class=\"data row5 col2\" >$214.00</td>\n",
       "                        <td id=\"T_1445eb9f_92a2_11eb_bbaf_80c5f2893d9crow5_col3\" class=\"data row5 col3\" >$4.12</td>\n",
       "            </tr>\n",
       "            <tr>\n",
       "                        <th id=\"T_1445eb9f_92a2_11eb_bbaf_80c5f2893d9clevel0_row6\" class=\"row_heading level0 row6\" >35-39</th>\n",
       "                        <td id=\"T_1445eb9f_92a2_11eb_bbaf_80c5f2893d9crow6_col0\" class=\"data row6 col0\" >41</td>\n",
       "                        <td id=\"T_1445eb9f_92a2_11eb_bbaf_80c5f2893d9crow6_col1\" class=\"data row6 col1\" >$3.60</td>\n",
       "                        <td id=\"T_1445eb9f_92a2_11eb_bbaf_80c5f2893d9crow6_col2\" class=\"data row6 col2\" >$147.67</td>\n",
       "                        <td id=\"T_1445eb9f_92a2_11eb_bbaf_80c5f2893d9crow6_col3\" class=\"data row6 col3\" >$4.76</td>\n",
       "            </tr>\n",
       "            <tr>\n",
       "                        <th id=\"T_1445eb9f_92a2_11eb_bbaf_80c5f2893d9clevel0_row7\" class=\"row_heading level0 row7\" >>40</th>\n",
       "                        <td id=\"T_1445eb9f_92a2_11eb_bbaf_80c5f2893d9crow7_col0\" class=\"data row7 col0\" >13</td>\n",
       "                        <td id=\"T_1445eb9f_92a2_11eb_bbaf_80c5f2893d9crow7_col1\" class=\"data row7 col1\" >$2.94</td>\n",
       "                        <td id=\"T_1445eb9f_92a2_11eb_bbaf_80c5f2893d9crow7_col2\" class=\"data row7 col2\" >$38.24</td>\n",
       "                        <td id=\"T_1445eb9f_92a2_11eb_bbaf_80c5f2893d9crow7_col3\" class=\"data row7 col3\" >$3.19</td>\n",
       "            </tr>\n",
       "    </tbody></table>"
      ],
      "text/plain": [
       "<pandas.io.formats.style.Styler at 0x24db9990250>"
      ]
     },
     "execution_count": 54,
     "metadata": {},
     "output_type": "execute_result"
    }
   ],
   "source": [
    "#Get the purchase count by age group\n",
    "purchase_count_by_age = ages_grouped[\"Purchase ID\"].count()\n",
    "\n",
    "#Get avg purchase price\n",
    "avg_purchase_price_by_age = ages_grouped[\"Price\"].mean()\n",
    "\n",
    "#Get total purchase value\n",
    "total_purchase_value_by_age = ages_grouped[\"Price\"].sum()\n",
    "\n",
    "#Get average purchase per person\n",
    "avg_total_purchase_per_person_by_age = total_purchase_value_by_age / total_age_count\n",
    "\n",
    "#Create dataframe\n",
    "age_demo = pd.DataFrame({\"Purchase Count\": purchase_count_by_age,\n",
    "                        \"Average Purchase Price\": avg_purchase_price_by_age,\n",
    "                        \"Total Purchase Value\": total_purchase_value_by_age,\n",
    "                        \"Average Purchase Total per Person\": avg_total_purchase_per_person_by_age})\n",
    "age_demo.style.format({\"Average Purchase Price\":\"${:,.2f}\",\n",
    "                     \"Total Purchase Value\":\"${:,.2f}\",\n",
    "                     \"Average Purchase Total per Person\":\"${:,.2f}\"})"
   ]
  },
  {
   "cell_type": "markdown",
   "metadata": {},
   "source": [
    "## Top Spenders"
   ]
  },
  {
   "cell_type": "markdown",
   "metadata": {},
   "source": [
    "* Run basic calculations to obtain the results in the table below\n",
    "\n",
    "\n",
    "* Create a summary data frame to hold the results\n",
    "\n",
    "\n",
    "* Sort the total purchase value column in descending order\n",
    "\n",
    "\n",
    "* Optional: give the displayed data cleaner formatting\n",
    "\n",
    "\n",
    "* Display a preview of the summary data frame\n",
    "\n"
   ]
  },
  {
   "cell_type": "code",
   "execution_count": 8,
   "metadata": {},
   "outputs": [
    {
     "data": {
      "text/html": [
       "<div>\n",
       "<style scoped>\n",
       "    .dataframe tbody tr th:only-of-type {\n",
       "        vertical-align: middle;\n",
       "    }\n",
       "\n",
       "    .dataframe tbody tr th {\n",
       "        vertical-align: top;\n",
       "    }\n",
       "\n",
       "    .dataframe thead th {\n",
       "        text-align: right;\n",
       "    }\n",
       "</style>\n",
       "<table border=\"1\" class=\"dataframe\">\n",
       "  <thead>\n",
       "    <tr style=\"text-align: right;\">\n",
       "      <th></th>\n",
       "      <th>Purchase Count</th>\n",
       "      <th>Average Purchase Price</th>\n",
       "      <th>Total Purchase Value</th>\n",
       "    </tr>\n",
       "    <tr>\n",
       "      <th>SN</th>\n",
       "      <th></th>\n",
       "      <th></th>\n",
       "      <th></th>\n",
       "    </tr>\n",
       "  </thead>\n",
       "  <tbody>\n",
       "    <tr>\n",
       "      <th>Lisosia93</th>\n",
       "      <td>5</td>\n",
       "      <td>$3.79</td>\n",
       "      <td>$18.96</td>\n",
       "    </tr>\n",
       "    <tr>\n",
       "      <th>Idastidru52</th>\n",
       "      <td>4</td>\n",
       "      <td>$3.86</td>\n",
       "      <td>$15.45</td>\n",
       "    </tr>\n",
       "    <tr>\n",
       "      <th>Chamjask73</th>\n",
       "      <td>3</td>\n",
       "      <td>$4.61</td>\n",
       "      <td>$13.83</td>\n",
       "    </tr>\n",
       "    <tr>\n",
       "      <th>Iral74</th>\n",
       "      <td>4</td>\n",
       "      <td>$3.40</td>\n",
       "      <td>$13.62</td>\n",
       "    </tr>\n",
       "    <tr>\n",
       "      <th>Iskadarya95</th>\n",
       "      <td>3</td>\n",
       "      <td>$4.37</td>\n",
       "      <td>$13.10</td>\n",
       "    </tr>\n",
       "  </tbody>\n",
       "</table>\n",
       "</div>"
      ],
      "text/plain": [
       "             Purchase Count Average Purchase Price Total Purchase Value\n",
       "SN                                                                     \n",
       "Lisosia93                 5                  $3.79               $18.96\n",
       "Idastidru52               4                  $3.86               $15.45\n",
       "Chamjask73                3                  $4.61               $13.83\n",
       "Iral74                    4                  $3.40               $13.62\n",
       "Iskadarya95               3                  $4.37               $13.10"
      ]
     },
     "execution_count": 8,
     "metadata": {},
     "output_type": "execute_result"
    }
   ],
   "source": []
  },
  {
   "cell_type": "markdown",
   "metadata": {},
   "source": [
    "## Most Popular Items"
   ]
  },
  {
   "cell_type": "markdown",
   "metadata": {},
   "source": [
    "* Retrieve the Item ID, Item Name, and Item Price columns\n",
    "\n",
    "\n",
    "* Group by Item ID and Item Name. Perform calculations to obtain purchase count, average item price, and total purchase value\n",
    "\n",
    "\n",
    "* Create a summary data frame to hold the results\n",
    "\n",
    "\n",
    "* Sort the purchase count column in descending order\n",
    "\n",
    "\n",
    "* Optional: give the displayed data cleaner formatting\n",
    "\n",
    "\n",
    "* Display a preview of the summary data frame\n",
    "\n"
   ]
  },
  {
   "cell_type": "code",
   "execution_count": 9,
   "metadata": {},
   "outputs": [
    {
     "data": {
      "text/html": [
       "<div>\n",
       "<style scoped>\n",
       "    .dataframe tbody tr th:only-of-type {\n",
       "        vertical-align: middle;\n",
       "    }\n",
       "\n",
       "    .dataframe tbody tr th {\n",
       "        vertical-align: top;\n",
       "    }\n",
       "\n",
       "    .dataframe thead th {\n",
       "        text-align: right;\n",
       "    }\n",
       "</style>\n",
       "<table border=\"1\" class=\"dataframe\">\n",
       "  <thead>\n",
       "    <tr style=\"text-align: right;\">\n",
       "      <th></th>\n",
       "      <th></th>\n",
       "      <th>Purchase Count</th>\n",
       "      <th>Item Price</th>\n",
       "      <th>Total Purchase Value</th>\n",
       "    </tr>\n",
       "    <tr>\n",
       "      <th>Item ID</th>\n",
       "      <th>Item Name</th>\n",
       "      <th></th>\n",
       "      <th></th>\n",
       "      <th></th>\n",
       "    </tr>\n",
       "  </thead>\n",
       "  <tbody>\n",
       "    <tr>\n",
       "      <th>92</th>\n",
       "      <th>Final Critic</th>\n",
       "      <td>13</td>\n",
       "      <td>$4.61</td>\n",
       "      <td>$59.99</td>\n",
       "    </tr>\n",
       "    <tr>\n",
       "      <th>178</th>\n",
       "      <th>Oathbreaker, Last Hope of the Breaking Storm</th>\n",
       "      <td>12</td>\n",
       "      <td>$4.23</td>\n",
       "      <td>$50.76</td>\n",
       "    </tr>\n",
       "    <tr>\n",
       "      <th>145</th>\n",
       "      <th>Fiery Glass Crusader</th>\n",
       "      <td>9</td>\n",
       "      <td>$4.58</td>\n",
       "      <td>$41.22</td>\n",
       "    </tr>\n",
       "    <tr>\n",
       "      <th>132</th>\n",
       "      <th>Persuasion</th>\n",
       "      <td>9</td>\n",
       "      <td>$3.22</td>\n",
       "      <td>$28.99</td>\n",
       "    </tr>\n",
       "    <tr>\n",
       "      <th>108</th>\n",
       "      <th>Extraction, Quickblade Of Trembling Hands</th>\n",
       "      <td>9</td>\n",
       "      <td>$3.53</td>\n",
       "      <td>$31.77</td>\n",
       "    </tr>\n",
       "  </tbody>\n",
       "</table>\n",
       "</div>"
      ],
      "text/plain": [
       "                                                     Purchase Count  \\\n",
       "Item ID Item Name                                                     \n",
       "92      Final Critic                                             13   \n",
       "178     Oathbreaker, Last Hope of the Breaking Storm             12   \n",
       "145     Fiery Glass Crusader                                      9   \n",
       "132     Persuasion                                                9   \n",
       "108     Extraction, Quickblade Of Trembling Hands                 9   \n",
       "\n",
       "                                                     Item Price  \\\n",
       "Item ID Item Name                                                 \n",
       "92      Final Critic                                      $4.61   \n",
       "178     Oathbreaker, Last Hope of the Breaking Storm      $4.23   \n",
       "145     Fiery Glass Crusader                              $4.58   \n",
       "132     Persuasion                                        $3.22   \n",
       "108     Extraction, Quickblade Of Trembling Hands         $3.53   \n",
       "\n",
       "                                                     Total Purchase Value  \n",
       "Item ID Item Name                                                          \n",
       "92      Final Critic                                               $59.99  \n",
       "178     Oathbreaker, Last Hope of the Breaking Storm               $50.76  \n",
       "145     Fiery Glass Crusader                                       $41.22  \n",
       "132     Persuasion                                                 $28.99  \n",
       "108     Extraction, Quickblade Of Trembling Hands                  $31.77  "
      ]
     },
     "execution_count": 9,
     "metadata": {},
     "output_type": "execute_result"
    }
   ],
   "source": []
  },
  {
   "cell_type": "markdown",
   "metadata": {},
   "source": [
    "## Most Profitable Items"
   ]
  },
  {
   "cell_type": "markdown",
   "metadata": {},
   "source": [
    "* Sort the above table by total purchase value in descending order\n",
    "\n",
    "\n",
    "* Optional: give the displayed data cleaner formatting\n",
    "\n",
    "\n",
    "* Display a preview of the data frame\n",
    "\n"
   ]
  },
  {
   "cell_type": "code",
   "execution_count": 10,
   "metadata": {
    "scrolled": true
   },
   "outputs": [
    {
     "data": {
      "text/html": [
       "<div>\n",
       "<style scoped>\n",
       "    .dataframe tbody tr th:only-of-type {\n",
       "        vertical-align: middle;\n",
       "    }\n",
       "\n",
       "    .dataframe tbody tr th {\n",
       "        vertical-align: top;\n",
       "    }\n",
       "\n",
       "    .dataframe thead th {\n",
       "        text-align: right;\n",
       "    }\n",
       "</style>\n",
       "<table border=\"1\" class=\"dataframe\">\n",
       "  <thead>\n",
       "    <tr style=\"text-align: right;\">\n",
       "      <th></th>\n",
       "      <th></th>\n",
       "      <th>Purchase Count</th>\n",
       "      <th>Item Price</th>\n",
       "      <th>Total Purchase Value</th>\n",
       "    </tr>\n",
       "    <tr>\n",
       "      <th>Item ID</th>\n",
       "      <th>Item Name</th>\n",
       "      <th></th>\n",
       "      <th></th>\n",
       "      <th></th>\n",
       "    </tr>\n",
       "  </thead>\n",
       "  <tbody>\n",
       "    <tr>\n",
       "      <th>92</th>\n",
       "      <th>Final Critic</th>\n",
       "      <td>13</td>\n",
       "      <td>$4.61</td>\n",
       "      <td>$59.99</td>\n",
       "    </tr>\n",
       "    <tr>\n",
       "      <th>178</th>\n",
       "      <th>Oathbreaker, Last Hope of the Breaking Storm</th>\n",
       "      <td>12</td>\n",
       "      <td>$4.23</td>\n",
       "      <td>$50.76</td>\n",
       "    </tr>\n",
       "    <tr>\n",
       "      <th>82</th>\n",
       "      <th>Nirvana</th>\n",
       "      <td>9</td>\n",
       "      <td>$4.90</td>\n",
       "      <td>$44.10</td>\n",
       "    </tr>\n",
       "    <tr>\n",
       "      <th>145</th>\n",
       "      <th>Fiery Glass Crusader</th>\n",
       "      <td>9</td>\n",
       "      <td>$4.58</td>\n",
       "      <td>$41.22</td>\n",
       "    </tr>\n",
       "    <tr>\n",
       "      <th>103</th>\n",
       "      <th>Singed Scalpel</th>\n",
       "      <td>8</td>\n",
       "      <td>$4.35</td>\n",
       "      <td>$34.80</td>\n",
       "    </tr>\n",
       "  </tbody>\n",
       "</table>\n",
       "</div>"
      ],
      "text/plain": [
       "                                                     Purchase Count  \\\n",
       "Item ID Item Name                                                     \n",
       "92      Final Critic                                             13   \n",
       "178     Oathbreaker, Last Hope of the Breaking Storm             12   \n",
       "82      Nirvana                                                   9   \n",
       "145     Fiery Glass Crusader                                      9   \n",
       "103     Singed Scalpel                                            8   \n",
       "\n",
       "                                                     Item Price  \\\n",
       "Item ID Item Name                                                 \n",
       "92      Final Critic                                      $4.61   \n",
       "178     Oathbreaker, Last Hope of the Breaking Storm      $4.23   \n",
       "82      Nirvana                                           $4.90   \n",
       "145     Fiery Glass Crusader                              $4.58   \n",
       "103     Singed Scalpel                                    $4.35   \n",
       "\n",
       "                                                     Total Purchase Value  \n",
       "Item ID Item Name                                                          \n",
       "92      Final Critic                                               $59.99  \n",
       "178     Oathbreaker, Last Hope of the Breaking Storm               $50.76  \n",
       "82      Nirvana                                                    $44.10  \n",
       "145     Fiery Glass Crusader                                       $41.22  \n",
       "103     Singed Scalpel                                             $34.80  "
      ]
     },
     "execution_count": 10,
     "metadata": {},
     "output_type": "execute_result"
    }
   ],
   "source": []
  }
 ],
 "metadata": {
  "anaconda-cloud": {},
  "kernel_info": {
   "name": "python3"
  },
  "kernelspec": {
   "display_name": "Python 3",
   "language": "python",
   "name": "python3"
  },
  "language_info": {
   "codemirror_mode": {
    "name": "ipython",
    "version": 3
   },
   "file_extension": ".py",
   "mimetype": "text/x-python",
   "name": "python",
   "nbconvert_exporter": "python",
   "pygments_lexer": "ipython3",
   "version": "3.8.5"
  },
  "latex_envs": {
   "LaTeX_envs_menu_present": true,
   "autoclose": false,
   "autocomplete": true,
   "bibliofile": "biblio.bib",
   "cite_by": "apalike",
   "current_citInitial": 1,
   "eqLabelWithNumbers": true,
   "eqNumInitial": 1,
   "hotkeys": {
    "equation": "Ctrl-E",
    "itemize": "Ctrl-I"
   },
   "labels_anchors": false,
   "latex_user_defs": false,
   "report_style_numbering": false,
   "user_envs_cfg": false
  },
  "nteract": {
   "version": "0.2.0"
  }
 },
 "nbformat": 4,
 "nbformat_minor": 2
}
